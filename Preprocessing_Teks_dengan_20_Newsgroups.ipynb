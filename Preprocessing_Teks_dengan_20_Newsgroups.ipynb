{
  "nbformat": 4,
  "nbformat_minor": 0,
  "metadata": {
    "colab": {
      "provenance": [],
      "authorship_tag": "ABX9TyNJT9gUx6aCsZidrYJ6JjtB",
      "include_colab_link": true
    },
    "kernelspec": {
      "name": "python3",
      "display_name": "Python 3"
    },
    "language_info": {
      "name": "python"
    }
  },
  "cells": [
    {
      "cell_type": "markdown",
      "metadata": {
        "id": "view-in-github",
        "colab_type": "text"
      },
      "source": [
        "<a href=\"https://colab.research.google.com/github/hyulianton/BigData/blob/main/Preprocessing_Teks_dengan_20_Newsgroups.ipynb\" target=\"_parent\"><img src=\"https://colab.research.google.com/assets/colab-badge.svg\" alt=\"Open In Colab\"/></a>"
      ]
    },
    {
      "cell_type": "code",
      "execution_count": 1,
      "metadata": {
        "id": "jFjkz91IP1ax"
      },
      "outputs": [],
      "source": [
        "from sklearn.datasets import fetch_20newsgroups\n",
        "from sklearn.feature_extraction.text import TfidfVectorizer"
      ]
    },
    {
      "cell_type": "markdown",
      "source": [
        "- **fetch_20newsgroups**: Dataset dari scikit-learn yang berisi 18.000+ dokumen teks dari 20 kategori newsgroup (misal: `sci.space`, `rec.sport.baseball`).\n",
        "- **TfidfVectorizer**: Alat untuk mengubah teks menjadi vektor numerik menggunakan TF-IDF (*Term Frequency-Inverse Document Frequency*)."
      ],
      "metadata": {
        "id": "9S6_9pq5UQkZ"
      }
    },
    {
      "cell_type": "code",
      "source": [
        "newsgroups = fetch_20newsgroups(subset='train')\n",
        "corpus = newsgroups.data[:500]  # Ambil 500 dokumen pertama"
      ],
      "metadata": {
        "id": "s81Ieqo5URUG"
      },
      "execution_count": 2,
      "outputs": []
    },
    {
      "cell_type": "markdown",
      "source": [
        "- **Dataset 20 Newsgroups**:  \n",
        "  - **Subset 'train'**: Data latih dengan 11.314 dokumen.  \n",
        "  - **Struktur Setiap Dokumen**: Teks mentah dengan header, body, dan footer.  \n",
        "  - **Contoh Konten**:  \n",
        "    ```\n",
        "    From: user@domain.com\n",
        "    Subject: Re: Space Shuttle Launch\n",
        "    NASA announced the next shuttle launch...\n",
        "    ```\n",
        "- **`corpus = newsgroups.data[:500]`**:  \n",
        "  - Mengambil 500 dokumen pertama untuk mempercepat proses demo.  \n"
      ],
      "metadata": {
        "id": "xTxDs2lgUcQC"
      }
    },
    {
      "cell_type": "code",
      "source": [
        "vectorizer = TfidfVectorizer(\n",
        "    max_features=1000,      # Batasi jumlah fitur\n",
        "    stop_words='english',   # Hapus stopwords (the, is, and, dll)\n",
        "    ngram_range=(1, 2)      # Ambil unigram dan bigram\n",
        ")\n",
        "X_tfidf = vectorizer.fit_transform(corpus)"
      ],
      "metadata": {
        "id": "IcTALGoHUfrZ"
      },
      "execution_count": 3,
      "outputs": []
    },
    {
      "cell_type": "markdown",
      "source": [
        "#### **A. Parameter `max_features=1000`**  \n",
        "- **Tujuan**: Membatasi jumlah kata/fitur yang dihasilkan menjadi 1000 term terpenting.  \n",
        "- **Alasan**:  \n",
        "  - Mencegah dimensi terlalu besar (dari 500 dokumen bisa menghasilkan >10.000 fitur).  \n",
        "  - Mempercepat komputasi dan mengurangi *noise* dari kata jarang muncul.  \n",
        "\n",
        "#### **B. Parameter `stop_words='english'`**  \n",
        "- **Tujuan**: Menghapus kata umum yang tidak informatif (*stopwords*) seperti \"the\", \"and\", \"is\".  \n",
        "- **Daftar Stopwords**:  "
      ],
      "metadata": {
        "id": "8cisNnbqUscP"
      }
    },
    {
      "cell_type": "code",
      "source": [
        "print(vectorizer.get_stop_words())  # Output: {'the', 'and', 'to', ...}"
      ],
      "metadata": {
        "colab": {
          "base_uri": "https://localhost:8080/"
        },
        "id": "KQO44DneUxvN",
        "outputId": "1cb29c49-634a-48e1-adb6-058556ed448f"
      },
      "execution_count": 4,
      "outputs": [
        {
          "output_type": "stream",
          "name": "stdout",
          "text": [
            "frozenset({'take', 'to', 'this', 'against', 'part', 'within', 'nothing', 'via', 'through', 'forty', 'nor', 'what', 'am', 'only', 'hence', 'becomes', 'besides', 'whither', 'therefore', 'could', 'beforehand', 'afterwards', 'now', 'cannot', 'often', 'found', 'go', 'nobody', 'more', 'indeed', 'his', 'latter', 'an', 'done', 'these', 'about', 'down', 'must', 'least', 'might', 'for', 'eleven', 'when', 'per', 'most', 'whereas', 'top', 'inc', 'call', 'eight', 'however', 'itself', 'their', 'already', 'across', 'before', 'until', 'behind', 'he', 'show', 'formerly', 'along', 'themselves', 'without', 'do', 'first', 'became', 'as', 'keep', 'somewhere', 'have', 'serious', 're', 'another', 'or', 'we', 'her', 'hers', 'sometimes', 'had', 'less', 'seem', 'then', 'rather', 'see', 'my', 'thereafter', 'interest', 'wherever', 'your', 'our', 'there', 'whether', 'a', 'whenever', 'twenty', 'may', 'anyway', 'also', 'cant', 'somehow', 'under', 'very', 'hundred', 'two', 'elsewhere', 'detail', 'been', 'become', 'be', 'thin', 'nine', 'next', 'someone', 'hereafter', 'they', 'noone', 'empty', 'whoever', 'former', 'de', 'onto', 'thereby', 'thus', 'are', 'namely', 'fifteen', 'sometime', 'whence', 'still', 'three', 'is', 'once', 'please', 'while', 'that', 'upon', 'if', 'becoming', 'can', 'ten', 'bottom', 'himself', 'together', 'due', 'either', 'many', 'couldnt', 'from', 'here', 'twelve', 'by', 'but', 'back', 'moreover', 'who', 'it', 'find', 'whatever', 'anywhere', 'enough', 'any', 'whose', 'amount', 'anyhow', 'well', 'which', 'amongst', 'whereupon', 'mill', 'otherwise', 'ourselves', 'etc', 'us', 'with', 'whereby', 'has', 'below', 'around', 'neither', 'front', 'will', 'than', 'each', 'seems', 'else', 'un', 'con', 'few', 'over', 'every', 'the', 'no', 'him', 'co', 'own', 'everyone', 'thence', 'therein', 'all', 'i', 'too', 'everywhere', 'some', 'although', 'thick', 'yourself', 'several', 'others', 'put', 'herself', 'how', 'hasnt', 'of', 'mostly', 'none', 'fill', 'up', 'yourselves', 'seeming', 'hereby', 'throughout', 'something', 'yours', 'off', 'thereupon', 'beside', 'into', 'wherein', 'give', 'latterly', 'last', 'describe', 'whom', 'same', 'one', 'myself', 'side', 'would', 'because', 'everything', 'never', 'ie', 'whereafter', 'name', 'ever', 'full', 'again', 'third', 'during', 'and', 'amoungst', 'you', 'after', 'were', 'perhaps', 'both', 'always', 'nevertheless', 'since', 'towards', 'sixty', 'its', 'seemed', 'sincere', 'anything', 'other', 'beyond', 'cry', 'not', 'at', 'me', 'much', 'those', 'further', 'among', 'bill', 'above', 'alone', 'out', 'why', 'move', 'though', 'system', 'on', 'was', 'meanwhile', 'between', 'so', 'fire', 'mine', 'fifty', 'herein', 'made', 'yet', 'six', 'thru', 'where', 'toward', 'four', 'even', 'such', 'in', 'them', 'whole', 'hereupon', 'nowhere', 'eg', 'should', 'ours', 'almost', 'five', 'ltd', 'except', 'she', 'get', 'anyone', 'being'})\n"
          ]
        }
      ]
    },
    {
      "cell_type": "markdown",
      "source": [
        "- **Efek**: Meningkatkan kualitas fitur dengan fokus pada kata kunci.  \n",
        "\n",
        "#### **C. Parameter `ngram_range=(1, 2)`**  \n",
        "- **Tujuan**: Menangkap kata tunggal (*unigram*) dan pasangan kata (*bigram*).  \n",
        "- **Contoh**:  \n",
        "  - Teks: \"machine learning\"  \n",
        "  - Unigram: [\"machine\", \"learning\"]  \n",
        "  - Bigram: [\"machine learning\"]  \n",
        "- **Manfaat**: Mempertahankan konteks frasa penting (misal: \"space shuttle\", \"black hole\").  \n",
        "\n",
        "#### **D. Proses TF-IDF**  \n",
        "1. **Term Frequency (TF)**:  \n",
        "   - Menghitung frekuensi kata dalam satu dokumen.  \n",
        "   - Rumus: $ \\text{TF}(t, d) = \\frac{\\text{Jumlah kemunculan term } t \\text{ di dokumen } d}{\\text{Jumlah total term di dokumen } d} $  \n",
        "\n",
        "2. **Inverse Document Frequency (IDF)**:  \n",
        "   - Mengukur pentingnya term di seluruh korpus.  \n",
        "   - Rumus: $ \\text{IDF}(t) = \\log\\left(\\frac{\\text{Jumlah dokumen}}{\\text{Jumlah dokumen yang mengandung term } t + 1}\\right) $  \n",
        "\n",
        "3. **TF-IDF**:  \n",
        "   - $ \\text{TF-IDF}(t, d) = \\text{TF}(t, d) \\times \\text{IDF}(t) $  \n",
        "   - **Hasil**: Matriks sparse di mana setiap baris adalah dokumen, dan setiap kolom adalah skor TF-IDF untuk suatu term.  \n",
        "\n",
        "---"
      ],
      "metadata": {
        "id": "YlwiiozrU5AQ"
      }
    },
    {
      "cell_type": "code",
      "source": [
        "print(\"Contoh fitur:\", vectorizer.get_feature_names_out()[100:110])\n",
        "print(\"Dimensi matrix:\", X_tfidf.shape)"
      ],
      "metadata": {
        "colab": {
          "base_uri": "https://localhost:8080/"
        },
        "id": "YTH9gBeaU9t6",
        "outputId": "c47bf81d-4795-4aff-97e4-ed35898c27db"
      },
      "execution_count": 5,
      "outputs": [
        {
          "output_type": "stream",
          "name": "stdout",
          "text": [
            "Contoh fitur: ['according' 'action' 'actually' 'ad' 'adam' 'add' 'address' 'advance'\n",
            " 'age' 'ago']\n",
            "Dimensi matrix: (500, 1000)\n"
          ]
        }
      ]
    },
    {
      "cell_type": "markdown",
      "source": [
        "  - Fitur adalah kata/bigram yang terpilih.  \n",
        "  - Indeks 100-110 menunjukkan contoh term di tengah kosakata.  \n",
        "\n",
        "#### **B. Dimensi Matrix**  \n",
        "- **Output**: `(500, 1000)`  \n",
        "  - **500**: Jumlah dokumen.  \n",
        "  - **1000**: Jumlah fitur (kata/bigram) yang dipilih.  \n",
        "\n",
        "---\n",
        "\n",
        "### **Visualisasi Alur Preprocessing**"
      ],
      "metadata": {
        "id": "qWrKCB5eVeCF"
      }
    },
    {
      "cell_type": "markdown",
      "source": [
        "![image.png](data:image/png;base64,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)"
      ],
      "metadata": {
        "id": "eLIbWQbKVjym"
      }
    },
    {
      "cell_type": "markdown",
      "source": [
        "### **Mengapa Teknik Ini Penting?**\n",
        "1. **Representasi Numerik**:  \n",
        "   - Model ML (SVM, Naive Bayes, dll) tidak bisa memproses teks langsung.  \n",
        "2. **Penekanan pada Kata Kunci**:  \n",
        "   - TF-IDF memberi bobot tinggi pada kata yang spesifik ke dokumen tertentu (misal: \"NASA\" di dokumen tentang antariksa).  \n",
        "3. **Reduksi Dimensi**:  \n",
        "   - `max_features=1000` mencegah *curse of dimensionality*.  \n",
        "\n",
        "---\n",
        "\n",
        "### **Kapan Menggunakan Parameter Ini?**\n",
        "- **`max_features`**:  \n",
        "  - Saat dataset sangat besar atau sumber daya komputasi terbatas.  \n",
        "- **`ngram_range=(1,2)`**:  \n",
        "  - Untuk tugas yang membutuhkan pemahaman konteks frasa (misal: analisis sentimen).  \n",
        "- **`stop_words='english'`**:  \n",
        "  - Hampir selalu digunakan kecuali untuk kasus khusus (misal: analisis gaya penulisan).  \n",
        "\n",
        "---\n",
        "\n",
        "### **Contoh Aplikasi**  \n",
        "1. **Klasifikasi Topik**:  \n",
        "   - Mengkategorikan dokumen ke 20 newsgroup berdasarkan konten.  \n",
        "2. **Pencarian Dokumen**:  \n",
        "   - Mencari dokumen mirip menggunakan *cosine similarity* pada vektor TF-IDF.  \n",
        "3. **Clustering**:  \n",
        "   - Mengelompokkan dokumen dengan topik serupa menggunakan K-Means.  \n",
        "\n",
        "---\n",
        "\n",
        "### **Catatan Penting**\n",
        "1. **Pembersihan Teks Tambahan**:  \n",
        "   - Contoh program tidak mencakup:  \n",
        "     - **Stemming/Lemmatization** (misal: \"running\" → \"run\").  \n",
        "     - **Hapus Tanda Baca/Header** (misal: \"From: user@domain.com\").  \n",
        "   - Untuk hasil lebih baik, lakukan pra-pemrosesan tambahan sebelum TF-IDF.  \n",
        "2. **Optimasi Parameter**:  \n",
        "   - Eksperimen dengan `max_features` (500-10.000) dan `ngram_range` (1,1 atau 1,3).  \n",
        "3. **Alternatif**:  \n",
        "   - **Word Embeddings** (Word2Vec, BERT) untuk representasi lebih kaya.  \n",
        "\n",
        "Dengan preprocessing ini, teks mentah yang berantakan berubah menjadi struktur numerik siap untuk analisis machine learning! 📰🔢"
      ],
      "metadata": {
        "id": "1Hhg41v2VqYe"
      }
    }
  ]
}