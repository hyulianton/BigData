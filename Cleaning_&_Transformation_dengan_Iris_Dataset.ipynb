{
  "nbformat": 4,
  "nbformat_minor": 0,
  "metadata": {
    "colab": {
      "provenance": [],
      "authorship_tag": "ABX9TyMyWrpOZ+6lmQsjaJW8qjEJ",
      "include_colab_link": true
    },
    "kernelspec": {
      "name": "python3",
      "display_name": "Python 3"
    },
    "language_info": {
      "name": "python"
    }
  },
  "cells": [
    {
      "cell_type": "markdown",
      "metadata": {
        "id": "view-in-github",
        "colab_type": "text"
      },
      "source": [
        "<a href=\"https://colab.research.google.com/github/hyulianton/BigData/blob/main/Cleaning_%26_Transformation_dengan_Iris_Dataset.ipynb\" target=\"_parent\"><img src=\"https://colab.research.google.com/assets/colab-badge.svg\" alt=\"Open In Colab\"/></a>"
      ]
    },
    {
      "cell_type": "code",
      "execution_count": 7,
      "metadata": {
        "id": "nnkui9lz3R7Y"
      },
      "outputs": [],
      "source": [
        "import pandas as pd\n",
        "import numpy as np\n",
        "from sklearn.datasets import load_iris\n",
        "from sklearn.impute import SimpleImputer\n",
        "from sklearn.preprocessing import StandardScaler, OneHotEncoder\n",
        "from sklearn.compose import ColumnTransformer"
      ]
    },
    {
      "cell_type": "markdown",
      "source": [
        "**Pandas**: Untuk manipulasi data dalam format DataFrame.\n",
        "\n",
        "**Numpy**: Untuk operasi numerik (misal: menghasilkan missing values).\n",
        "\n",
        "**load_iris**: Dataset Iris klasik dari scikit-learn (4 fitur numerik, 3 kelas bunga).\n",
        "\n",
        "**SimpleImputer**: Mengisi missing values.\n",
        "\n",
        "**StandardScaler**: Standarisasi data numerik.\n",
        "\n",
        "**OneHotEncoder**: Encoding variabel kategorikal.\n",
        "\n",
        "**ColumnTransformer**: Menggabungkan transformasi untuk kolom berbeda."
      ],
      "metadata": {
        "id": "smw9V9U65WM8"
      }
    },
    {
      "cell_type": "code",
      "source": [
        "iris = load_iris()\n",
        "df = pd.DataFrame(iris.data, columns=iris.feature_names)"
      ],
      "metadata": {
        "id": "QUHRaJHW5qGG"
      },
      "execution_count": 8,
      "outputs": []
    },
    {
      "cell_type": "markdown",
      "source": [
        "Dataset Iris:\n",
        "\n",
        "  - 150 sampel, 4 fitur: sepal length (cm), sepal width (cm), petal length (cm), petal width (cm).\n",
        "\n",
        "  - Target: 3 kelas bunga (setosa, versicolor, virginica).\n",
        "\n",
        "Data awal hanya fitur numerik. Target belum disertakan."
      ],
      "metadata": {
        "id": "fG3fO73H5ycU"
      }
    },
    {
      "cell_type": "code",
      "source": [
        "np.random.seed(42)\n",
        "df.iloc[10:15, 0] = np.nan  # Missing values di kolom sepal length\n",
        "df['class'] = iris.target_names[iris.target]  # Tambah kolom kategorikal"
      ],
      "metadata": {
        "id": "Y7aIj-A-6DqH"
      },
      "execution_count": 9,
      "outputs": []
    },
    {
      "cell_type": "markdown",
      "source": [
        "Menambahkan Missing Values:\n",
        "\n",
        "- Baris 10-14 (indeks 10:15) pada kolom pertama (sepal length) diisi NaN.\n",
        "\n",
        "- Tujuan: Simulasi data tidak lengkap yang umum di dunia nyata.\n",
        "\n",
        "Menambahkan Kolom Kategorikal:\n",
        "\n",
        "- Kolom class diisi nama kelas bunga (setosa, versicolor, virginica).\n",
        "\n",
        "- Tujuan: Memperkenalkan data kategorikal untuk demo encoding."
      ],
      "metadata": {
        "id": "jSJ070RQ6Gfc"
      }
    },
    {
      "cell_type": "code",
      "source": [
        "imputer = SimpleImputer(strategy='mean')\n",
        "df[['sepal length (cm)']] = imputer.fit_transform(df[['sepal length (cm)']])"
      ],
      "metadata": {
        "id": "8wbb92kQ6W0X"
      },
      "execution_count": 10,
      "outputs": []
    },
    {
      "cell_type": "markdown",
      "source": [
        "**Strategi Imputasi**: Menggunakan rata-rata (mean) untuk mengisi missing values.\n",
        "\n",
        "**Alasan Memilih Mean**: Cocok untuk data numerik yang terdistribusi normal.\n",
        "\n",
        "**Proses**:\n",
        "\n",
        "1. Hitung rata-rata sepal length dari data yang tersedia.\n",
        "\n",
        "2. Ganti NaN dengan nilai rata-rata tersebut.\n",
        "\n",
        "**Hasil**: Kolom sepal length tidak lagi memiliki missing values."
      ],
      "metadata": {
        "id": "vaAHPGHS6aNs"
      }
    },
    {
      "cell_type": "code",
      "source": [
        "preprocessor = ColumnTransformer(\n",
        "    transformers=[\n",
        "        ('onehot', OneHotEncoder(), ['class']),  # Encoding untuk kolom 'class'\n",
        "        ('scaler', StandardScaler(), iris.feature_names)  # Scaling untuk fitur numerik\n",
        "    ])\n",
        "\n",
        "df_processed = preprocessor.fit_transform(df)"
      ],
      "metadata": {
        "id": "DGRERIrc6zaL"
      },
      "execution_count": 11,
      "outputs": []
    },
    {
      "cell_type": "markdown",
      "source": [
        "#### **A. One-Hot Encoding untuk Kolom 'class'**\n",
        "- **Tujuan**: Mengubah data kategorikal (`setosa`, `versicolor`, `virginica`) menjadi format numerik.  \n",
        "- **Contoh Hasil**:  \n",
        "  - `setosa` → `[1, 0, 0]`  \n",
        "  - `versicolor` → `[0, 1, 0]`  \n",
        "  - `virginica` → `[0, 0, 1]`  \n",
        "\n",
        "#### **B. Standarisasi untuk Fitur Numerik**\n",
        "- **Rumus**: $ z = \\frac{(x - \\mu)}{\\sigma} $  \n",
        "  ($\\mu$ = mean, $\\sigma$ = standar deviasi)  \n",
        "- **Tujuan**:  \n",
        "  - Menyamakan skala fitur (misal: `sepal length` dalam cm vs `petal width` dalam cm).  \n",
        "  - Mencegah model ML bias ke fitur dengan skala besar.  \n",
        "\n",
        "#### **C. ColumnTransformer**  \n",
        "- **Fungsi**: Menerapkan transformasi berbeda ke kolom berbeda dalam satu langkah.  \n",
        "- **Parameter `remainder='passthrough'`**: Kolom yang tidak ditransformasi tetap dipertahankan (tidak diperlukan di sini karena semua kolom sudah ditangani).  "
      ],
      "metadata": {
        "id": "AWp_14Hu63_M"
      }
    },
    {
      "cell_type": "code",
      "source": [
        "print(\"Data setelah preprocessing:\\n\", df_processed[:5])"
      ],
      "metadata": {
        "colab": {
          "base_uri": "https://localhost:8080/"
        },
        "id": "k4TcWKcp8I38",
        "outputId": "f46a8f93-a980-4288-be78-f32c240d665a"
      },
      "execution_count": 12,
      "outputs": [
        {
          "output_type": "stream",
          "name": "stdout",
          "text": [
            "Data setelah preprocessing:\n",
            " [[ 1.          0.          0.         -0.95821845  1.01900435 -1.34022653\n",
            "  -1.3154443 ]\n",
            " [ 1.          0.          0.         -1.20655031 -0.13197948 -1.34022653\n",
            "  -1.3154443 ]\n",
            " [ 1.          0.          0.         -1.45488217  0.32841405 -1.39706395\n",
            "  -1.3154443 ]\n",
            " [ 1.          0.          0.         -1.5790481   0.09821729 -1.2833891\n",
            "  -1.3154443 ]\n",
            " [ 1.          0.          0.         -1.08238438  1.24920112 -1.34022653\n",
            "  -1.3154443 ]]\n"
          ]
        }
      ]
    },
    {
      "cell_type": "markdown",
      "source": [
        "- **Format Output**: Array numpy (bukan DataFrame) karena hasil transformasi scikit-learn.  \n",
        "- **Struktur Output**:  \n",
        "  - Kolom 0-2: One-Hot Encoding dari `class` (3 kolom).  \n",
        "  - Kolom 3-6: Fitur numerik yang sudah distandardisasi (4 kolom).  \n",
        "- **Contoh Output** (5 baris pertama):  \n",
        "  ```\n",
        "  [[ 0.         0.         1.         -0.90068117  1.03205722 -1.3412724  -1.31297673]\n",
        "   [ 0.         1.         0.         -1.14301691 -0.1249576  -1.3412724  -1.31297673]\n",
        "   [ 0.         0.         1.         -1.38535265  0.33784833 -1.39813811 -1.31297673]\n",
        "   [ 0.         1.         0.         -1.50652052  0.10644536 -1.2844067  -1.31297673]\n",
        "   [ 0.         0.         1.         -1.02184904  1.26346019 -1.3412724  -1.31297673]]\n",
        "  ```\n",
        "\n",
        "---\n",
        "\n",
        "### **Visualisasi Alur Preprocessing**\n"
      ],
      "metadata": {
        "id": "s5RNRyOc8S-Z"
      }
    },
    {
      "cell_type": "markdown",
      "source": [
        "![image.png](data:image/png;base64,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)"
      ],
      "metadata": {
        "id": "Q2-NbDgFBaDA"
      }
    },
    {
      "cell_type": "markdown",
      "source": [
        "### **Pentingnya Setiap Langkah**\n",
        "1. **Handling Missing Values**:  \n",
        "   - Mencegah error saat pelatihan model.  \n",
        "   - Memastikan data lengkap untuk analisis statistik.  \n",
        "\n",
        "2. **One-Hot Encoding**:  \n",
        "   - Mengubah data kategorikal menjadi format yang bisa dipahami model ML (misal: SVM, regresi).  \n",
        "\n",
        "3. **Standarisasi**:  \n",
        "   - Memastikan semua fitur berkontribusi secara adil dalam perhitungan jarak (kNN, SVM) atau optimasi (regresi, neural network).  \n",
        "\n",
        "4. **ColumnTransformer**:  \n",
        "   - Memudahkan penerapan pipeline kompleks dengan banyak jenis transformasi.  \n",
        "\n",
        "---\n",
        "\n",
        "### **Kapan Teknik Ini Digunakan?**\n",
        "- **Imputasi Mean**: Ketika missing values terjadi secara acak (MCAR/Missing Completely at Random).  \n",
        "- **One-Hot Encoding**: Untuk fitur kategorikal **nominal** (tidak ada urutan).  \n",
        "- **Standarisasi**: Untuk algoritma yang sensitif skala (SVM, regresi, neural networks).  \n",
        "\n",
        "Dengan langkah-langkah ini, data Iris yang awalnya mentah dan tidak lengkap siap digunakan untuk pelatihan model machine learning! 🌸"
      ],
      "metadata": {
        "id": "gWqu_vpJBklv"
      }
    }
  ]
}