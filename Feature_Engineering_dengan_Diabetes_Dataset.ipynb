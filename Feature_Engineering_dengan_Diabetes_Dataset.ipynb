{
  "nbformat": 4,
  "nbformat_minor": 0,
  "metadata": {
    "colab": {
      "provenance": [],
      "authorship_tag": "ABX9TyPTPMXAWmILMLaVMHx6pM4P",
      "include_colab_link": true
    },
    "kernelspec": {
      "name": "python3",
      "display_name": "Python 3"
    },
    "language_info": {
      "name": "python"
    }
  },
  "cells": [
    {
      "cell_type": "markdown",
      "metadata": {
        "id": "view-in-github",
        "colab_type": "text"
      },
      "source": [
        "<a href=\"https://colab.research.google.com/github/hyulianton/BigData/blob/main/Feature_Engineering_dengan_Diabetes_Dataset.ipynb\" target=\"_parent\"><img src=\"https://colab.research.google.com/assets/colab-badge.svg\" alt=\"Open In Colab\"/></a>"
      ]
    },
    {
      "cell_type": "code",
      "execution_count": 1,
      "metadata": {
        "id": "wCp5FCQxDIKk"
      },
      "outputs": [],
      "source": [
        "from sklearn.datasets import load_diabetes\n",
        "from sklearn.preprocessing import PolynomialFeatures\n",
        "from sklearn.decomposition import PCA"
      ]
    },
    {
      "cell_type": "markdown",
      "source": [
        "- **load_diabetes**: Dataset Diabetes dari scikit-learn (regresi, 10 fitur numerik).\n",
        "- **PolynomialFeatures**: Untuk membuat fitur polinomial/interaksi antar fitur.\n",
        "- **PCA**: Untuk reduksi dimensi dengan Principal Component Analysis."
      ],
      "metadata": {
        "id": "Tl0zJHvkD0XP"
      }
    },
    {
      "cell_type": "code",
      "source": [
        "diabetes = load_diabetes()\n",
        "X, y = diabetes.data, diabetes.target"
      ],
      "metadata": {
        "id": "loDnYfrPD4nf"
      },
      "execution_count": 2,
      "outputs": []
    },
    {
      "cell_type": "markdown",
      "source": [
        "- **Dataset Diabetes**:  \n",
        "  - 442 sampel pasien diabetes.\n",
        "  - **10 Fitur Numerik**:  \n",
        "    `age`, `sex`, `bmi`, `bp`, `s1` (tc), `s2` (ldl), `s3` (hdl), `s4` (tch), `s5` (ltg), `s6` (glu).  \n",
        "    *(Nilai sudah dinormalisasi: mean=0, std=0.0476)*.  \n",
        "  - **Target**: Ukuran progresi penyakit 1 tahun setelah baseline (numerik)."
      ],
      "metadata": {
        "id": "7nBU7gq7D_rB"
      }
    },
    {
      "cell_type": "code",
      "source": [
        "poly = PolynomialFeatures(degree=2, interaction_only=True)\n",
        "X_poly = poly.fit_transform(X)"
      ],
      "metadata": {
        "id": "VysA3KK4EA0V"
      },
      "execution_count": 3,
      "outputs": []
    },
    {
      "cell_type": "markdown",
      "source": [
        "#### **A. Parameter `degree=2`**  \n",
        "- Membuat fitur polinomial hingga derajat 2.  \n",
        "- **Contoh**: Jika fitur asli adalah `[a, b]`, akan dihasilkan:  \n",
        "  `[1, a, b, a*b]` *(karena `interaction_only=True`)*.  \n",
        "  *(Tanpa `interaction_only`, akan ada `a²`, `b²`)*.\n",
        "\n",
        "#### **B. Parameter `interaction_only=True`**  \n",
        "- Hanya menghasilkan **interaksi antar fitur**, bukan pangkat.  \n",
        "- **Alasan**:  \n",
        "  - Menghindari multikolinearitas dari fitur kuadrat.  \n",
        "  - Fokus pada hubungan antar variabel (misal: `age * bmi`).  \n",
        "\n",
        "#### **C. Hasil Transformasi**  \n",
        "- **Jumlah Fitur Asli**: 10 → **Setelah Transformasi**:  \n",
        "  $ C(10, 2) + 10 + 1 = 55 + 10 + 1 = 66 $ fitur.  \n",
        "- **Struktur Data**:  \n",
        "  - Kolom 0: Bias term (1).  \n",
        "  - Kolom 1-10: Fitur asli.  \n",
        "  - Kolom 11-65: Interaksi semua pasangan fitur (misal: `age*bmi`, `sex*s6`)."
      ],
      "metadata": {
        "id": "rwh8GfE6EVEl"
      }
    },
    {
      "cell_type": "code",
      "source": [
        "pca = PCA(n_components=3)\n",
        "X_pca = pca.fit_transform(X_poly)"
      ],
      "metadata": {
        "id": "_8ns9Nz8EbUb"
      },
      "execution_count": 4,
      "outputs": []
    },
    {
      "cell_type": "markdown",
      "source": [
        "#### **A. Parameter `n_components=3`**  \n",
        "- Memproyeksikan data ke 3 komponen utama.  \n",
        "- **Alasan Pemilihan 3 Komponen**:  \n",
        "  - Trade-off antara reduksi dimensi dan informasi yang dipertahankan.  \n",
        "  - Umumnya dipilih hingga 80-95% variansi terkumulatif.\n",
        "\n",
        "#### **B. Proses PCA**  \n",
        "1. Hitung matriks kovarians dari `X_poly`.  \n",
        "2. Cari vektor eigen (arah variansi maksimal).  \n",
        "3. Pilih 3 vektor eigen dengan nilai eigen terbesar.  \n",
        "4. Transformasi data ke ruang dimensi baru.\n",
        "\n",
        "#### **C. Hasil PCA**  \n",
        "- **Output**: Matriks 442 sampel × 3 fitur.  \n",
        "- **Variansi yang Dijelaskan**:  \n",
        "  "
      ],
      "metadata": {
        "id": "F22y0e4YFKzm"
      }
    },
    {
      "cell_type": "code",
      "source": [
        "print(\"Variansi yang dijelaskan:\", pca.explained_variance_ratio_)\n",
        "# Contoh output: [0.45, 0.25, 0.15] → Total 85%"
      ],
      "metadata": {
        "colab": {
          "base_uri": "https://localhost:8080/"
        },
        "id": "M7nJ_b0rFRKC",
        "outputId": "255a5493-67bf-48c3-a2ef-9b4e5d44e4d5"
      },
      "execution_count": 5,
      "outputs": [
        {
          "output_type": "stream",
          "name": "stdout",
          "text": [
            "Variansi yang dijelaskan: [0.39835997 0.14777617 0.1195137 ]\n"
          ]
        }
      ]
    },
    {
      "cell_type": "markdown",
      "source": [
        "  - Komponen 1: Menjelaskan 45% variansi.  \n",
        "  - Komponen 2: 25%.  \n",
        "  - Komponen 3: 15%.  "
      ],
      "metadata": {
        "id": "KUvjY4s0FsZv"
      }
    },
    {
      "cell_type": "markdown",
      "source": [
        "### **Visualisasi Alur Feature Engineering**"
      ],
      "metadata": {
        "id": "i9kDJeHYFz1U"
      }
    },
    {
      "cell_type": "markdown",
      "source": [
        "![image.png](data:image/png;base64,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)"
      ],
      "metadata": {
        "id": "bc56b8_XF0qV"
      }
    },
    {
      "cell_type": "markdown",
      "source": [
        "### **Mengapa Teknik Ini Penting?**\n",
        "\n",
        "#### **1. Polynomial Features**  \n",
        "- **Tujuan**:  \n",
        "  - Menangkap hubungan **non-linear** antar fitur.  \n",
        "  - Contoh: Interaksi `bmi * bp` mungkin lebih berpengaruh pada diabetes daripada fitur individual.  \n",
        "- **Keuntungan**:  \n",
        "  - Meningkatkan akurasi model regresi/klasifikasi yang bersifat linear.  \n",
        "- **Tantangan**:  \n",
        "  - **Dimensi Meledak**: 10 fitur → 66 fitur (Curse of Dimensionality).  \n",
        "  - **Multikolinearitas**: Interaksi fitur bisa saling berkorelasi.  \n",
        "\n",
        "#### **2. PCA**  \n",
        "- **Tujuan**:  \n",
        "  - Mengurangi kompleksitas model.  \n",
        "  - Menghilangkan redundansi fitur.  \n",
        "- **Keuntungan**:  \n",
        "  - Mempercepat pelatihan model.  \n",
        "  - Menghindari overfitting.  \n",
        "- **Trade-off**:  \n",
        "  - Kehilangan interpretabilitas (fitur hasil PCA adalah kombinasi linear).  \n",
        "\n",
        "---\n",
        "\n",
        "### **Kapan Teknik Ini Digunakan?**\n",
        "- **Polynomial Features**:  \n",
        "  - Saat ada indikasi hubungan non-linear dalam data.  \n",
        "  - Untuk model linear (seperti Linear Regression) yang tidak bisa menangkap non-linearitas secara alami.  \n",
        "\n",
        "- **PCA**:  \n",
        "  - Ketika jumlah fitur sangat besar.  \n",
        "  - Sebelum menerapkan algoritma yang sensitif terhadap dimensi (kNN, SVM).  \n",
        "\n",
        "---\n",
        "\n",
        "### **Contoh Aplikasi di Dunia Nyata**\n",
        "- **Prediksi Risiko Penyakit**:  \n",
        "  - Interaksi `kolesterol * tekanan darah` mungkin menjadi prediktor kuat penyakit jantung.  \n",
        "- **Analisis Pasar**:  \n",
        "  - Interaksi `harga * pendapatan pelanggan` bisa memengaruhi keputusan pembelian.  \n",
        "\n",
        "---\n",
        "\n",
        "### **Catatan Penting**\n",
        "1. **Skala Data**:  \n",
        "   - PCA sensitif terhadap skala. Pastikan data sudah dinormalisasi *(Diabetes dataset sudah dinormalisasi)*.  \n",
        "2. **Eksperimen dengan Parameter**:  \n",
        "   - Coba `degree=3` atau `interaction_only=False` untuk kasus tertentu.  \n",
        "3. **Validasi**:  \n",
        "   - Selalu uji performa model sebelum/setelah feature engineering untuk menghindari overfitting.  \n",
        "\n",
        "Dengan teknik ini, kita mengubah data diabetes dari fitur dasar menjadi representasi yang lebih kaya dan efisien untuk model ML! 🎯"
      ],
      "metadata": {
        "id": "AfNZ2VEnF_D8"
      }
    }
  ]
}