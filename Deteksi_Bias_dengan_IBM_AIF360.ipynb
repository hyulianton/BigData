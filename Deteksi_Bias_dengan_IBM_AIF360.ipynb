{
  "nbformat": 4,
  "nbformat_minor": 0,
  "metadata": {
    "colab": {
      "provenance": [],
      "authorship_tag": "ABX9TyM7vzX/aeLfFj6T0OJqkAd4",
      "include_colab_link": true
    },
    "kernelspec": {
      "name": "python3",
      "display_name": "Python 3"
    },
    "language_info": {
      "name": "python"
    }
  },
  "cells": [
    {
      "cell_type": "markdown",
      "metadata": {
        "id": "view-in-github",
        "colab_type": "text"
      },
      "source": [
        "<a href=\"https://colab.research.google.com/github/hyulianton/BigData/blob/main/Deteksi_Bias_dengan_IBM_AIF360.ipynb\" target=\"_parent\"><img src=\"https://colab.research.google.com/assets/colab-badge.svg\" alt=\"Open In Colab\"/></a>"
      ]
    },
    {
      "cell_type": "code",
      "source": [
        "!pip install aif360\n",
        "!pip install aif360[Reductions]"
      ],
      "metadata": {
        "colab": {
          "base_uri": "https://localhost:8080/"
        },
        "id": "oRcYzd3-Lunb",
        "outputId": "d4c2198d-b36b-45f6-b78c-169d70747ef5"
      },
      "execution_count": 4,
      "outputs": [
        {
          "output_type": "stream",
          "name": "stdout",
          "text": [
            "Requirement already satisfied: aif360 in /usr/local/lib/python3.11/dist-packages (0.6.1)\n",
            "Requirement already satisfied: numpy>=1.16 in /usr/local/lib/python3.11/dist-packages (from aif360) (2.0.2)\n",
            "Requirement already satisfied: scipy>=1.2.0 in /usr/local/lib/python3.11/dist-packages (from aif360) (1.15.2)\n",
            "Requirement already satisfied: pandas>=0.24.0 in /usr/local/lib/python3.11/dist-packages (from aif360) (2.2.2)\n",
            "Requirement already satisfied: scikit-learn>=1.0 in /usr/local/lib/python3.11/dist-packages (from aif360) (1.6.1)\n",
            "Requirement already satisfied: matplotlib in /usr/local/lib/python3.11/dist-packages (from aif360) (3.10.0)\n",
            "Requirement already satisfied: python-dateutil>=2.8.2 in /usr/local/lib/python3.11/dist-packages (from pandas>=0.24.0->aif360) (2.9.0.post0)\n",
            "Requirement already satisfied: pytz>=2020.1 in /usr/local/lib/python3.11/dist-packages (from pandas>=0.24.0->aif360) (2025.2)\n",
            "Requirement already satisfied: tzdata>=2022.7 in /usr/local/lib/python3.11/dist-packages (from pandas>=0.24.0->aif360) (2025.2)\n",
            "Requirement already satisfied: joblib>=1.2.0 in /usr/local/lib/python3.11/dist-packages (from scikit-learn>=1.0->aif360) (1.4.2)\n",
            "Requirement already satisfied: threadpoolctl>=3.1.0 in /usr/local/lib/python3.11/dist-packages (from scikit-learn>=1.0->aif360) (3.6.0)\n",
            "Requirement already satisfied: contourpy>=1.0.1 in /usr/local/lib/python3.11/dist-packages (from matplotlib->aif360) (1.3.2)\n",
            "Requirement already satisfied: cycler>=0.10 in /usr/local/lib/python3.11/dist-packages (from matplotlib->aif360) (0.12.1)\n",
            "Requirement already satisfied: fonttools>=4.22.0 in /usr/local/lib/python3.11/dist-packages (from matplotlib->aif360) (4.57.0)\n",
            "Requirement already satisfied: kiwisolver>=1.3.1 in /usr/local/lib/python3.11/dist-packages (from matplotlib->aif360) (1.4.8)\n",
            "Requirement already satisfied: packaging>=20.0 in /usr/local/lib/python3.11/dist-packages (from matplotlib->aif360) (24.2)\n",
            "Requirement already satisfied: pillow>=8 in /usr/local/lib/python3.11/dist-packages (from matplotlib->aif360) (11.2.1)\n",
            "Requirement already satisfied: pyparsing>=2.3.1 in /usr/local/lib/python3.11/dist-packages (from matplotlib->aif360) (3.2.3)\n",
            "Requirement already satisfied: six>=1.5 in /usr/local/lib/python3.11/dist-packages (from python-dateutil>=2.8.2->pandas>=0.24.0->aif360) (1.17.0)\n",
            "Requirement already satisfied: aif360[Reductions] in /usr/local/lib/python3.11/dist-packages (0.6.1)\n",
            "Requirement already satisfied: numpy>=1.16 in /usr/local/lib/python3.11/dist-packages (from aif360[Reductions]) (2.0.2)\n",
            "Requirement already satisfied: scipy>=1.2.0 in /usr/local/lib/python3.11/dist-packages (from aif360[Reductions]) (1.15.2)\n",
            "Requirement already satisfied: pandas>=0.24.0 in /usr/local/lib/python3.11/dist-packages (from aif360[Reductions]) (2.2.2)\n",
            "Requirement already satisfied: scikit-learn>=1.0 in /usr/local/lib/python3.11/dist-packages (from aif360[Reductions]) (1.6.1)\n",
            "Requirement already satisfied: matplotlib in /usr/local/lib/python3.11/dist-packages (from aif360[Reductions]) (3.10.0)\n",
            "Collecting fairlearn~=0.7 (from aif360[Reductions])\n",
            "  Downloading fairlearn-0.12.0-py3-none-any.whl.metadata (7.0 kB)\n",
            "Requirement already satisfied: python-dateutil>=2.8.2 in /usr/local/lib/python3.11/dist-packages (from pandas>=0.24.0->aif360[Reductions]) (2.9.0.post0)\n",
            "Requirement already satisfied: pytz>=2020.1 in /usr/local/lib/python3.11/dist-packages (from pandas>=0.24.0->aif360[Reductions]) (2025.2)\n",
            "Requirement already satisfied: tzdata>=2022.7 in /usr/local/lib/python3.11/dist-packages (from pandas>=0.24.0->aif360[Reductions]) (2025.2)\n",
            "Requirement already satisfied: joblib>=1.2.0 in /usr/local/lib/python3.11/dist-packages (from scikit-learn>=1.0->aif360[Reductions]) (1.4.2)\n",
            "Requirement already satisfied: threadpoolctl>=3.1.0 in /usr/local/lib/python3.11/dist-packages (from scikit-learn>=1.0->aif360[Reductions]) (3.6.0)\n",
            "Requirement already satisfied: contourpy>=1.0.1 in /usr/local/lib/python3.11/dist-packages (from matplotlib->aif360[Reductions]) (1.3.2)\n",
            "Requirement already satisfied: cycler>=0.10 in /usr/local/lib/python3.11/dist-packages (from matplotlib->aif360[Reductions]) (0.12.1)\n",
            "Requirement already satisfied: fonttools>=4.22.0 in /usr/local/lib/python3.11/dist-packages (from matplotlib->aif360[Reductions]) (4.57.0)\n",
            "Requirement already satisfied: kiwisolver>=1.3.1 in /usr/local/lib/python3.11/dist-packages (from matplotlib->aif360[Reductions]) (1.4.8)\n",
            "Requirement already satisfied: packaging>=20.0 in /usr/local/lib/python3.11/dist-packages (from matplotlib->aif360[Reductions]) (24.2)\n",
            "Requirement already satisfied: pillow>=8 in /usr/local/lib/python3.11/dist-packages (from matplotlib->aif360[Reductions]) (11.2.1)\n",
            "Requirement already satisfied: pyparsing>=2.3.1 in /usr/local/lib/python3.11/dist-packages (from matplotlib->aif360[Reductions]) (3.2.3)\n",
            "Requirement already satisfied: six>=1.5 in /usr/local/lib/python3.11/dist-packages (from python-dateutil>=2.8.2->pandas>=0.24.0->aif360[Reductions]) (1.17.0)\n",
            "Downloading fairlearn-0.12.0-py3-none-any.whl (240 kB)\n",
            "\u001b[2K   \u001b[90m━━━━━━━━━━━━━━━━━━━━━━━━━━━━━━━━━━━━━━━━\u001b[0m \u001b[32m240.0/240.0 kB\u001b[0m \u001b[31m4.1 MB/s\u001b[0m eta \u001b[36m0:00:00\u001b[0m\n",
            "\u001b[?25hInstalling collected packages: fairlearn\n",
            "Successfully installed fairlearn-0.12.0\n"
          ]
        }
      ]
    },
    {
      "cell_type": "code",
      "execution_count": 5,
      "metadata": {
        "id": "vH5aD_skLNQS"
      },
      "outputs": [],
      "source": [
        "from aif360.datasets import BinaryLabelDataset\n",
        "from aif360.algorithms.preprocessing import Reweighing\n",
        "from sklearn.datasets import fetch_openml\n",
        "import pandas as pd\n",
        "import numpy as np"
      ]
    },
    {
      "cell_type": "markdown",
      "source": [
        "- **aif360**: Toolkit IBM untuk deteksi dan mitigasi bias dalam machine learning.\n",
        "- **BinaryLabelDataset**: Format data yang digunakan AIF360 untuk dataset dengan label biner.\n",
        "- **Reweighing**: Algoritma preprocessing untuk menyeimbangkan bobot data berdasarkan atribut yang dilindungi.\n",
        "- **fetch_openml**: Fungsi untuk mengambil dataset Adult dari platform OpenML."
      ],
      "metadata": {
        "id": "NtGrv0UCMEFS"
      }
    },
    {
      "cell_type": "code",
      "source": [
        "data = fetch_openml(name='adult', version=2)\n",
        "df = pd.DataFrame(data.data, columns=data.feature_names)\n",
        "df['income'] = data.target"
      ],
      "metadata": {
        "id": "G94De6eAMHAm"
      },
      "execution_count": 6,
      "outputs": []
    },
    {
      "cell_type": "markdown",
      "source": [
        "- **Dataset Adult**:  \n",
        "  - **48.842 sampel** data sensus AS.  \n",
        "  - **Fitur**: `age`, `workclass`, `education`, `hours-per-week`, dll.  \n",
        "  - **Target**: `income` (\">50K\" atau \"<=50K\").  \n",
        "  - **Tujuan Klasik**: Memprediksi penghasilan individu berdasarkan atribut demografi.  "
      ],
      "metadata": {
        "id": "Rk0MIPcLMXfi"
      }
    },
    {
      "cell_type": "code",
      "source": [
        "df['gender'] = df['sex'].apply(lambda x: 1 if x == 'Female' else 0)\n",
        "df = df[['age', 'hours-per-week', 'gender', 'income']]"
      ],
      "metadata": {
        "id": "BaaNaepRMauP"
      },
      "execution_count": 7,
      "outputs": []
    },
    {
      "cell_type": "markdown",
      "source": [
        "- **Langkah 1**: Konversi kolom `sex` (kategorikal: \"Male\"/\"Female\") ke `gender` (numerik: 0/1).  \n",
        "- **Langkah 2**: Memilih subset fitur untuk demo:  \n",
        "  - `age`: Usia (numerik).  \n",
        "  - `hours-per-week`: Jam kerja/minggu (numerik).  \n",
        "  - `gender`: Atribut yang dilindungi (0 = Laki-laki, 1 = Perempuan).  \n",
        "  - `income`: Target (kategorikal).  "
      ],
      "metadata": {
        "id": "DqW8HtEqMmyh"
      }
    },
    {
      "cell_type": "code",
      "source": [
        "# 1. Konversi kolom 'income' ke numerik (0/1)\n",
        "df['income'] = df['income'].apply(lambda x: 1 if x == '>50K' else 0)\n",
        "\n",
        "# 2. Pastikan kolom lain bertipe numerik\n",
        "df['age'] = pd.to_numeric(df['age'])\n",
        "df['hours-per-week'] = pd.to_numeric(df['hours-per-week'])\n",
        "# -------------------------\n",
        "\n",
        "# Konversi ke BinaryLabelDataset\n",
        "dataset = BinaryLabelDataset(\n",
        "    df=df,\n",
        "    protected_attribute_names=['gender'],\n",
        "    label_names=['income']  # Pastikan 'income' sudah numerik\n",
        ")"
      ],
      "metadata": {
        "id": "CL3bDIAWMoEn"
      },
      "execution_count": 9,
      "outputs": []
    },
    {
      "cell_type": "markdown",
      "source": [
        "- **Struktur BinaryLabelDataset**:  \n",
        "  - `protected_attribute_names`: Daftar atribut yang perlu dilindungi dari bias (misal: gender, ras).  \n",
        "  - `label_names`: Kolom target (`income` dalam kasus ini).  \n",
        "- **Tujuan**: Memformat data agar kompatibel dengan algoritma fairness AIF360.\n"
      ],
      "metadata": {
        "id": "TXJhvkZ4NnGj"
      }
    },
    {
      "cell_type": "code",
      "source": [
        "rw = Reweighing(\n",
        "    unprivileged_groups=[{'gender': 1}],  # Grup tidak istimewa: Perempuan\n",
        "    privileged_groups=[{'gender': 0}]     # Grup istimewa: Laki-laki\n",
        ")\n",
        "dataset_transf = rw.fit_transform(dataset)"
      ],
      "metadata": {
        "id": "7lH4HpS5NrrF"
      },
      "execution_count": 10,
      "outputs": []
    },
    {
      "cell_type": "markdown",
      "source": [
        "#### **A. Parameter Algoritma**  \n",
        "- `unprivileged_groups`: Grup yang mengalami bias sistemik (Perempuan).  \n",
        "- `privileged_groups`: Grup yang diuntungkan (Laki-laki).  \n",
        "\n",
        "#### **B. Cara Kerja Reweighing**  \n",
        "1. Hitung **rasio seleksi** antara grup istimewa dan tidak istimewa.  \n",
        "   - Contoh: Jika Laki-laki 80% diterima kerja dan Perempuan 40%, rasio = 0.5.  \n",
        "2. Atur **bobot (weight)** setiap sampel untuk menyeimbangkan distribusi:  \n",
        "   - Sampel dari grup tidak istimewa yang outcome-nya baik → Bobot ditingkatkan.  \n",
        "   - Sampel dari grup istimewa yang outcome-nya buruk → Bobot dikurangi.  \n",
        "\n",
        "#### **C. Output**  \n",
        "- `dataset_transf`: Dataset baru dengan bobot yang diadjust.  \n"
      ],
      "metadata": {
        "id": "Fp3c4OJRN1lF"
      }
    },
    {
      "cell_type": "code",
      "source": [
        "print(\"Bobot sebelum:\", np.unique(dataset.instance_weights))\n",
        "print(\"Bobot sesudah:\", np.unique(dataset_transf.instance_weights))"
      ],
      "metadata": {
        "colab": {
          "base_uri": "https://localhost:8080/"
        },
        "id": "N0QTNwe7N6AP",
        "outputId": "ab11cb7d-68c7-43e3-e252-80047d5ad508"
      },
      "execution_count": 11,
      "outputs": [
        {
          "output_type": "stream",
          "name": "stdout",
          "text": [
            "Bobot sebelum: [1.]\n",
            "Bobot sesudah: [0.78771422 0.85402133 1.09262055 2.1901924 ]\n"
          ]
        }
      ]
    },
    {
      "cell_type": "markdown",
      "source": [
        "- **Sebelum Mitigasi**:  \n",
        "  - Semua sampel memiliki bobot seragam (default = 1.0).  \n",
        "  - Contoh output: `[1.]`  \n",
        "- **Setelah Mitigasi**:  \n",
        "  - Bobot sampel diubah untuk menyeimbangkan representasi grup.  \n",
        "  - Contoh output: `[0.8, 1.2]` (Bergantung pada distribusi data).  \n",
        "\n",
        "---\n",
        "\n",
        "### **Visualisasi Alur Mitigasi Bias**"
      ],
      "metadata": {
        "id": "zUWliYeQOE36"
      }
    },
    {
      "cell_type": "markdown",
      "source": [
        "![image.png](data:image/png;base64,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)"
      ],
      "metadata": {
        "id": "jVkwj044OJw1"
      }
    },
    {
      "cell_type": "markdown",
      "source": [
        "### **Mengapa Ini Penting?**\n",
        "1. **Konteks Dataset Adult**:  \n",
        "   - Dalam data sensus AS, **perempuan** dan **minoritas** sering terdiskriminasi dalam prediksi penghasilan.  \n",
        "   - Model ML yang dilatih tanpa mitigasi bias akan mengabadikan ketidakadilan ini.  \n",
        "\n",
        "2. **Implikasi Bias**:  \n",
        "   - Jika model HR menggunakan data bias, bisa menolak kandidat perempuan secara tidak adil.  \n",
        "   - Contoh nyata: Amazon pernah membatalkan sistem rekrutmen AI karena bias gender.  \n",
        "\n",
        "---\n",
        "\n",
        "### **Interpretasi Bobot**\n",
        "- **Contoh Perubahan Bobot**:  \n",
        "  - **Perempuan dengan income >50K**: Bobot naik (misal: 1.2) → Dianggap lebih penting.  \n",
        "  - **Laki-laki dengan income <=50K**: Bobot turun (misal: 0.8) → Pengaruhnya dikurangi.  \n",
        "- **Efek pada Model ML**:  \n",
        "  - Loss function akan lebih \"menghukum\" kesalahan prediksi pada sampel berbobot tinggi.  \n",
        "\n",
        "---\n",
        "\n",
        "### **Langkah Selanjutnya (Tidak Ditampilkan di Kode)**\n",
        "1. **Pelatihan Model**:  \n",
        "   - Latih model dengan data yang sudah di-reweight.  \n",
        "2. **Evaluasi Fairness**:  \n",
        "   - Hitung metrik fairness seperti **Statistical Parity Difference** atau **Equal Opportunity Difference**.  \n",
        "3. **Mitigasi Lanjutan**:  \n",
        "   - Gunakan teknik in-processing (misal: Adversarial Debiasing) atau post-processing (misal: Calibrated Equalized Odds).  \n",
        "\n",
        "---\n",
        "\n",
        "### **Keterbatasan Contoh Ini**\n",
        "1. **Simplifikasi Atribut**:  \n",
        "   - Hanya menggunakan `gender`, sementara bias bisa berasal dari kombinasi atribut (misal: gender + ras).  \n",
        "2. **Dataset Historis**:  \n",
        "   - Data sensus AS mungkin tidak merepresentasikan konteks geografis/kultural lain.  \n",
        "3. **Evaluasi Tidak Lengkap**:  \n",
        "   - Perlu uji statistik tambahan untuk memvalidasi keberhasilan mitigasi.  \n",
        "\n",
        "---\n",
        "\n",
        "### **Aplikasi di Dunia Nyata**\n",
        "- **Sistem Kredit Bank**: Memastikan algoritma tidak mendiskriminasi kelompok tertentu.  \n",
        "- **Rekrutmen AI**: Menghindari bias gender/ras dalam seleksi kandidat.  \n",
        "- **Hukum & Kebijakan**: Memenuhi regulasi seperti GDPR atau AI Act UE yang mewajibkan audit fairness.  \n",
        "\n",
        "Dengan teknik ini, kita tidak hanya membangun model yang akurat, tetapi juga **adil** dan **bertanggung jawab**! ⚖️🤖"
      ],
      "metadata": {
        "id": "Z5bWMvGCOXaR"
      }
    }
  ]
}